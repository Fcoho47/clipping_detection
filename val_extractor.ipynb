{
 "cells": [
  {
   "cell_type": "code",
   "execution_count": 2,
   "metadata": {},
   "outputs": [],
   "source": [
    "import joblib\n",
    "import numpy as np\n",
    "import pandas as pd\n",
    "import pickle\n",
    "import csv\n",
    "import matplotlib.pyplot as plt\n",
    "from datetime import timedelta\n",
    "import xgboost as xgb\n",
    "from sklearn.model_selection import train_test_split\n",
    "from sklearn.metrics import accuracy_score\n",
    "import matplotlib.pyplot as plt"
   ]
  },
  {
   "cell_type": "code",
   "execution_count": 2,
   "metadata": {},
   "outputs": [],
   "source": [
    "modelo = joblib.load(\"C:\\\\Users\\\\franc\\\\OneDrive\\\\Documentos\\\\VScode\\\\Github\\\\Franico-proyecto\\\\RF_clipping.joblib\")"
   ]
  },
  {
   "cell_type": "code",
   "execution_count": 3,
   "metadata": {},
   "outputs": [],
   "source": [
    "validate_dt = pd.read_excel('data/validation.xlsx')\n",
    "\n",
    "\n",
    "validate_dt.time = validate_dt.time - timedelta(hours=4) \n",
    "validate_dt['fecha'] = validate_dt['time'].dt.date\n",
    "\n",
    "validate_dt['time'] = pd.DatetimeIndex(validate_dt['time'])"
   ]
  },
  {
   "cell_type": "code",
   "execution_count": 12,
   "metadata": {},
   "outputs": [],
   "source": [
    "def extract_data(dataframe):\n",
    "\n",
    "    n_plantas = dataframe['id_planta'].unique()\n",
    "    fecha_plantas = dataframe[\"fecha\"].unique()\n",
    "    fecha_plantas = fecha_plantas[1:-1]\n",
    "    retorno = []\n",
    "\n",
    "    for n in n_plantas:\n",
    "        datos_planta = dataframe.query(f\"id_planta == {n}\")\n",
    "        data = []\n",
    "\n",
    "\n",
    "        for f in fecha_plantas:\n",
    "            dt = datos_planta[datos_planta[\"fecha\"] == f]\n",
    "            pt = list(dt[\"Potencia Teórica\"].values)          #Potencia Teórica\n",
    "            pr = list(dt[\"Potencia Fotovoltaica\"].values)     #Potencia Real\n",
    "            pc = list(dt[\"clipping\"].values)                  #Clipping\n",
    "            retorno.append([pt, pr, pc])                      #Lista con los 3 vectores anteriores\n",
    "    \n",
    "    return retorno\n",
    "\n",
    "\n",
    "def normalize_data(lista):\n",
    "    '''Función que normaliza una lista con listas de generación teórica, real y clipping'''\n",
    "\n",
    "    new_list = [ [x[0], x[1], x[2]] for x in lista ]\n",
    "    L = []\n",
    "\n",
    "    for x in new_list:\n",
    "        maximo = max(max(x[0]), max(x[1]))\n",
    "        x1  = [0 if i < 0 else i for i in x[0]]\n",
    "        x2  = [0 if i < 0 else i for i in x[1]]\n",
    "        \n",
    "        x1 = x1/maximo\n",
    "        x2 = x2/maximo\n",
    "\n",
    "        L.append([x1, x2, x[2]])\n",
    "    \n",
    "    return L\n",
    "        \n",
    "def error_threshold(predict_vector, test_label, error_tolerance):\n",
    "    #Función para obtener vectores predichos con cierta cantidad de errores\n",
    "\n",
    "    error = []\n",
    "    error_vector = []\n",
    "\n",
    "    for i,j in zip(predict_vector, test_label):\n",
    "        if (i != j).any():\n",
    "            error.append([i,j])\n",
    "\n",
    "        if list(i == j).count(False) == error_tolerance:\n",
    "            error_vector.append([i, j])\n",
    "    \n",
    "    return error, error_vector"
   ]
  },
  {
   "cell_type": "code",
   "execution_count": 13,
   "metadata": {},
   "outputs": [],
   "source": [
    "data = extract_data(validate_dt)\n",
    "normalized_vectors = normalize_data(data)"
   ]
  },
  {
   "cell_type": "code",
   "execution_count": 15,
   "metadata": {},
   "outputs": [],
   "source": [
    "# Flatten list\n",
    "flatten = []\n",
    "for x in normalized_vectors:\n",
    "    flatten.append(list(x[0][12:-4]) + list(x[1][12:-4]))\n",
    "\n",
    "# Clipping list\n",
    "C = []\n",
    "for i in data:\n",
    "    C.append(i[2][12:-4])"
   ]
  },
  {
   "cell_type": "code",
   "execution_count": 18,
   "metadata": {},
   "outputs": [
    {
     "data": {
      "text/plain": [
       "[<matplotlib.lines.Line2D at 0x2e266d7d040>]"
      ]
     },
     "execution_count": 18,
     "metadata": {},
     "output_type": "execute_result"
    },
    {
     "data": {
      "image/png": "[encoded data removed]",
      "text/plain": [
       "<Figure size 640x480 with 1 Axes>"
      ]
     },
     "metadata": {},
     "output_type": "display_data"
    }
   ],
   "source": [
    "plt.plot(flatten[2])"
   ]
  },
  {
   "cell_type": "code",
   "execution_count": 99,
   "metadata": {},
   "outputs": [],
   "source": [
    "clipping = [x[2] for x in a]"
   ]
  },
  {
   "cell_type": "code",
   "execution_count": 105,
   "metadata": {},
   "outputs": [],
   "source": [
    "# Guardar las variables en un archivo\n",
    "with open(\"validation.pkl\", \"wb\") as archivo:\n",
    "    pickle.dump((vectores_normalizados, clipping) , archivo)"
   ]
  },
  {
   "cell_type": "code",
   "execution_count": 162,
   "metadata": {},
   "outputs": [],
   "source": [
    "with open(\"C:\\\\Users\\\\franc\\\\OneDrive\\\\Documentos\\\\VScode\\\\Github\\\\Franico-proyecto\\\\models\\\\modelo.pkl\", 'rb') as archivo:\n",
    "    modelo_cargado = pickle.load(archivo)"
   ]
  },
  {
   "cell_type": "code",
   "execution_count": 163,
   "metadata": {},
   "outputs": [],
   "source": [
    "dtest = xgb.DMatrix(data = flatten2)"
   ]
  },
  {
   "cell_type": "code",
   "execution_count": 164,
   "metadata": {},
   "outputs": [],
   "source": [
    "y_pred_prob = modelo_cargado.predict(dtest)"
   ]
  },
  {
   "cell_type": "code",
   "execution_count": 167,
   "metadata": {},
   "outputs": [
    {
     "name": "stdout",
     "output_type": "stream",
     "text": [
      "0.2111111111111111\n"
     ]
    }
   ],
   "source": [
    "import numpy as np\n",
    "# Umbral de decisión\n",
    "threshold = 0.1\n",
    "\n",
    "# Convertir probabilidades a etiquetas binarias\n",
    "y_pred = np.where(y_pred_prob >= threshold, 1, 0)\n",
    "accuracy = accuracy_score(C, y_pred)\n",
    "print(accuracy)"
   ]
  },
  {
   "cell_type": "code",
   "execution_count": 166,
   "metadata": {},
   "outputs": [
    {
     "data": {
      "text/plain": [
       "Text(0.5, 1.0, 'Precisión vs Umbral de error')"
      ]
     },
     "execution_count": 166,
     "metadata": {},
     "output_type": "execute_result"
    },
    {
     "data": {
      "image/png": "[encoded data removed]",
      "text/plain": [
       "<Figure size 640x480 with 1 Axes>"
      ]
     },
     "metadata": {},
     "output_type": "display_data"
    }
   ],
   "source": [
    "ummbral = np.linspace(0.1, 0.8, 100)\n",
    "AC = []\n",
    "for i in ummbral:\n",
    "    y_pred = np.where(y_pred_prob >= i, 1, 0)\n",
    "    accuracy = accuracy_score(y_test, y_pred)\n",
    "    AC.append(accuracy)\n",
    "\n",
    "plt.plot(ummbral, AC)\n",
    "plt.xlabel(\"Threshold\")\n",
    "plt.ylabel(\"Accuracy\")\n",
    "plt.title(\"Precisión vs Umbral de error\")"
   ]
  },
  {
   "cell_type": "code",
   "execution_count": 168,
   "metadata": {},
   "outputs": [
    {
     "name": "stdout",
     "output_type": "stream",
     "text": [
      "\n",
      "total de predicciones: 90\n",
      "Total de vector con 1 error: 14\n",
      "Total de vector con 2 error: 17\n",
      "Total de vector con 3 error: 13\n",
      "Total de vector con 4 error: 7\n",
      "\n",
      "Precision con 1 error: 0.36666666666666664\n",
      "Precision con 2 errores: 0.5555555555555556\n",
      "Precision con 3 errores: 0.7\n",
      "Precision con 4 errores: 0.7777777777777778\n"
     ]
    }
   ],
   "source": [
    "print(\"\")\n",
    "\n",
    "y_test = C\n",
    "x_test = flatten\n",
    "\n",
    "prediccion = y_pred\n",
    "lista1 = error_threshold(prediccion, y_test, 1)\n",
    "lista2 = error_threshold(prediccion, y_test, 2)\n",
    "lista3 = error_threshold(prediccion, y_test, 3)\n",
    "lista4 = error_threshold(prediccion, y_test, 4)\n",
    "pre = accuracy_score(prediccion, y_test)\n",
    "\n",
    "print(\"total de predicciones:\", len(x_test))\n",
    "print(\"Total de vector con 1 error:\", len(lista1[1]))\n",
    "print(\"Total de vector con 2 error:\", len(lista2[1]))\n",
    "print(\"Total de vector con 3 error:\", len(lista3[1]))\n",
    "print(\"Total de vector con 4 error:\", len(lista4[1]))\n",
    "\n",
    "print(\"\")\n",
    "\n",
    "print(\"Precision con 1 error:\", (len(lista1[1]) + pre*len(x_test))/len(x_test))\n",
    "print(\"Precision con 2 errores:\", (len(lista1[1]) + len(lista2[1]) + pre*len(x_test))/len(x_test))\n",
    "print(\"Precision con 3 errores:\", (len(lista1[1]) + len(lista2[1]) + len(lista3[1]) + pre*len(x_test))/len(x_test))\n",
    "print(\"Precision con 4 errores:\", (len(lista1[1]) + len(lista2[1]) + len(lista3[1]) + len(lista4[1]) + pre*len(x_test))/len(x_test))"
   ]
  }
 ],
 "metadata": {
  "kernelspec": {
   "display_name": "Python 3",
   "language": "python",
   "name": "python3"
  },
  "language_info": {
   "codemirror_mode": {
    "name": "ipython",
    "version": 3
   },
   "file_extension": ".py",
   "mimetype": "text/x-python",
   "name": "python",
   "nbconvert_exporter": "python",
   "pygments_lexer": "ipython3",
   "version": "3.9.13"
  },
  "orig_nbformat": 4
 },
 "nbformat": 4,
 "nbformat_minor": 2
}
