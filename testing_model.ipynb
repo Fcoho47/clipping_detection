{
 "cells": [
  {
   "cell_type": "markdown",
   "metadata": {},
   "source": [
    "Due to the fact that in the previous code we were able to identify that for a learning rate of 0.4 we see an improvement in the model's accuracy as the number of estimators increases, now the model is trained within that range of values to compare accuracy with computation time. This is done to identify if we can simplify the model and gain computing time to perform more tests if necessary."
   ]
  },
  {
   "cell_type": "code",
   "execution_count": 1,
   "metadata": {},
   "outputs": [],
   "source": [
    "import pandas as pd\n",
    "import numpy as np\n",
    "import os\n",
    "import matplotlib.pyplot as plt\n",
    "import csv\n",
    "import pickle\n",
    "import xgboost as xgb\n",
    "import plotly.express as px\n",
    "from itertools import product\n",
    "import time\n",
    "\n",
    "from sklearn.pipeline import Pipeline\n",
    "from sklearn.model_selection import train_test_split\n",
    "from sklearn.metrics import accuracy_score"
   ]
  },
  {
   "cell_type": "code",
   "execution_count": 2,
   "metadata": {},
   "outputs": [],
   "source": [
    "# Load data using pickle\n",
    "\n",
    "with open('data/variables.pkl', 'rb') as f:\n",
    "    data = pickle.load(f)\n",
    "\n",
    "normalized_vector = data[0]\n",
    "label = data[1]"
   ]
  },
  {
   "cell_type": "code",
   "execution_count": 3,
   "metadata": {},
   "outputs": [],
   "source": [
    "# Create train and test data\n",
    "x_train, x_test, y_train, y_test = train_test_split(normalized_vector, label, test_size=0.3, random_state=0)\n",
    "\n",
    "# Flatten the data\n",
    "x_train_flat = np.array([np.concatenate(x) for x in x_train])\n",
    "x_test_flat = np.array([np.concatenate(x) for x in x_test])"
   ]
  },
  {
   "cell_type": "code",
   "execution_count": 6,
   "metadata": {},
   "outputs": [
    {
     "name": "stdout",
     "output_type": "stream",
     "text": [
      "350 0.6592009587199793\n",
      "Elapsed time: 337.8184103965759\n",
      "400 0.6608204181444234\n",
      "Elapsed time: 355.0808928012848\n",
      "450 0.6618892613645565\n",
      "Elapsed time: 408.1656060218811\n",
      "500 0.6632981910638229\n",
      "Elapsed time: 449.9480903148651\n",
      "550 0.6638973910508672\n",
      "Elapsed time: 483.70644998550415\n",
      "600 0.6639135856451117\n",
      "Elapsed time: 526.3194570541382\n",
      "650 0.6643994234724448\n",
      "Elapsed time: 564.6280505657196\n",
      "700 0.6653387099386225\n",
      "Elapsed time: 603.8046295642853\n",
      "750 0.6652253477789114\n",
      "Elapsed time: 642.4625146389008\n",
      "800 0.6654520720983336\n",
      "Elapsed time: 685.267758846283\n",
      "850 0.6659864937084001\n",
      "Elapsed time: 723.6219205856323\n",
      "900 0.6665694991012\n",
      "Elapsed time: 767.1325542926788\n",
      "950 0.6664237477530001\n",
      "Elapsed time: 804.4891011714935\n",
      "1000 0.6668448072033555\n",
      "Elapsed time: 838.8665161132812\n",
      "1050 0.6673468396249332\n",
      "Elapsed time: 884.0506372451782\n",
      "1100 0.6672172828709777\n",
      "Elapsed time: 930.5242218971252\n",
      "1150 0.6674440071903999\n",
      "Elapsed time: 966.1658220291138\n",
      "1200 0.6677355098867997\n",
      "Elapsed time: 989.6624417304993\n",
      "1250 0.6675573693501109\n",
      "Elapsed time: 1022.8578147888184\n",
      "1300 0.6680270125831997\n",
      "Elapsed time: 1087.4098868370056\n",
      "1350 0.6681889585256442\n",
      "Elapsed time: 1135.5585844516754\n",
      "1400 0.6682699314968663\n",
      "Elapsed time: 1149.1606562137604\n",
      "1450 0.6685614341932663\n",
      "Elapsed time: 1169.4153413772583\n",
      "1500 0.6683347098738441\n",
      "Elapsed time: 1223.8573398590088\n",
      "1550 0.6684156828450664\n",
      "Elapsed time: 1275.663622379303\n",
      "1600 0.6686424071644885\n",
      "Elapsed time: 1330.6088819503784\n",
      "1650 0.6686586017587329\n",
      "Elapsed time: 1337.5068485736847\n",
      "1700 0.6686424071644885\n",
      "Elapsed time: 1364.129579782486\n",
      "1750 0.6686586017587329\n",
      "Elapsed time: 1401.3379907608032\n",
      "1800 0.668917715266644\n",
      "Elapsed time: 1444.7175319194794\n",
      "1850 0.6691768287745551\n",
      "Elapsed time: 1481.263733625412\n",
      "1900 0.6691444395860662\n",
      "Elapsed time: 1533.699208021164\n",
      "1950 0.6692254125572884\n",
      "Elapsed time: 1613.5910370349884\n",
      "2000 0.6694845260651995\n",
      "Elapsed time: 1656.9533293247223\n",
      "2050 0.6694845260651995\n",
      "Elapsed time: 1630.2490301132202\n"
     ]
    }
   ],
   "source": [
    "n_estimators = [350, 400, 450, 500, 550, 600, 650, 700, 750, 800, 850, 900, 950, 1000, 1050, 1100, 1150, 1200, 1250, 1300, 1350, 1400, 1450, 1500, 1550, 1600, 1650, 1700, 1750, 1800, 1850, 1900, 1950, 2000, 2050]\n",
    "results = []\n",
    "iteration_time = []\n",
    "dtest = xgb.DMatrix(data = x_test_flat)\n",
    "dtrain = xgb.DMatrix(data = x_train_flat, label = y_train)\n",
    "\n",
    "ummbral = np.linspace(0.1, 0.8, 80)\n",
    "\n",
    "params = {\n",
    "        \"objective\": \"binary:logistic\", \n",
    "        \"learning_rate\": 0.4\n",
    "    }\n",
    "\n",
    "\n",
    "for j in n_estimators:\n",
    "    iteration_start_time = time.time()\n",
    "   \n",
    "\n",
    "    # Train the model\n",
    "    model = xgb.train(params, dtrain, j)\n",
    "\n",
    "    y_pred_prob = model.predict(dtest)\n",
    "    AC = []\n",
    "    for i in ummbral:\n",
    "        y_pred = np.where(y_pred_prob >= i, 1, 0)\n",
    "        accuracy = accuracy_score(y_test, y_pred)\n",
    "        AC.append(accuracy)\n",
    "    idx_max = AC.index(max(AC))\n",
    "    threshold = ummbral[idx_max]\n",
    "\n",
    "    y_pred = np.where(y_pred_prob >= threshold, 1, 0)\n",
    "    accuracy = accuracy_score(y_test, y_pred)\n",
    "    results.append([j, accuracy])\n",
    "    print(j, accuracy)\n",
    "\n",
    "    iteration_end_time = time.time()\n",
    "    elapsed_time = iteration_end_time - iteration_start_time\n",
    "    iteration_time.append(elapsed_time)\n",
    "    print(f\"Elapsed time: {elapsed_time}\")\n"
   ]
  },
  {
   "cell_type": "code",
   "execution_count": null,
   "metadata": {},
   "outputs": [],
   "source": [
    "# save results using pickle\n",
    "\n",
    "with open('outputs/accuracy_outputs.pkl', 'wb') as f:\n",
    "    pickle.dump(results, f)"
   ]
  },
  {
   "cell_type": "code",
   "execution_count": 9,
   "metadata": {},
   "outputs": [],
   "source": [
    "# Create a dataframe with the results\n",
    "\n",
    "df = pd.DataFrame(results, columns = ['n_estimators', 'accuracy'])\n",
    "\n",
    "df['computation_time'] = iteration_time"
   ]
  },
  {
   "cell_type": "code",
   "execution_count": 22,
   "metadata": {},
   "outputs": [
    {
     "data": {
      "application/vnd.plotly.v1+json": {
       "config": {
        "plotlyServerURL": "https://plot.ly"
       },
       "data": [
        {
         "line": {
          "color": "blue"
         },
         "mode": "lines",
         "name": "Accuracy",
         "type": "scatter",
         "x": [
          350,
          400,
          450,
          500,
          550,
          600,
          650,
          700,
          750,
          800,
          850,
          900,
          950,
          1000,
          1050,
          1100,
          1150,
          1200,
          1250,
          1300,
          1350,
          1400,
          1450,
          1500,
          1550,
          1600,
          1650,
          1700,
          1750,
          1800,
          1850,
          1900,
          1950,
          2000,
          2050
         ],
         "xaxis": "x",
         "y": [
          0.6592009587199793,
          0.6608204181444234,
          0.6618892613645565,
          0.6632981910638229,
          0.6638973910508672,
          0.6639135856451117,
          0.6643994234724448,
          0.6653387099386225,
          0.6652253477789114,
          0.6654520720983336,
          0.6659864937084001,
          0.6665694991012,
          0.6664237477530001,
          0.6668448072033555,
          0.6673468396249332,
          0.6672172828709777,
          0.6674440071903999,
          0.6677355098867997,
          0.6675573693501109,
          0.6680270125831997,
          0.6681889585256442,
          0.6682699314968663,
          0.6685614341932663,
          0.6683347098738441,
          0.6684156828450664,
          0.6686424071644885,
          0.6686586017587329,
          0.6686424071644885,
          0.6686586017587329,
          0.668917715266644,
          0.6691768287745551,
          0.6691444395860662,
          0.6692254125572884,
          0.6694845260651995,
          0.6694845260651995
         ],
         "yaxis": "y"
        },
        {
         "line": {
          "color": "red"
         },
         "mode": "lines",
         "name": "Computation Time",
         "type": "scatter",
         "x": [
          350,
          400,
          450,
          500,
          550,
          600,
          650,
          700,
          750,
          800,
          850,
          900,
          950,
          1000,
          1050,
          1100,
          1150,
          1200,
          1250,
          1300,
          1350,
          1400,
          1450,
          1500,
          1550,
          1600,
          1650,
          1700,
          1750,
          1800,
          1850,
          1900,
          1950,
          2000,
          2050
         ],
         "xaxis": "x2",
         "y": [
          337.8184103965759,
          355.0808928012848,
          408.1656060218811,
          449.9480903148651,
          483.70644998550415,
          526.3194570541382,
          564.6280505657196,
          603.8046295642853,
          642.4625146389008,
          685.267758846283,
          723.6219205856323,
          767.1325542926788,
          804.4891011714935,
          838.8665161132812,
          884.0506372451782,
          930.5242218971252,
          966.1658220291138,
          989.6624417304993,
          1022.8578147888184,
          1087.4098868370056,
          1135.5585844516754,
          1149.1606562137604,
          1169.4153413772583,
          1223.8573398590088,
          1275.663622379303,
          1330.6088819503784,
          1337.5068485736847,
          1364.129579782486,
          1401.3379907608032,
          1444.7175319194794,
          1481.263733625412,
          1533.699208021164,
          1613.5910370349884,
          1656.9533293247223,
          1630.2490301132202
         ],
         "yaxis": "y2"
        }
       ],
       "layout": {
        "showlegend": true,
        "template": {
         "data": {
          "bar": [
           {
            "error_x": {
             "color": "#2a3f5f"
            },
            "error_y": {
             "color": "#2a3f5f"
            },
            "marker": {
             "line": {
              "color": "#E5ECF6",
              "width": 0.5
             },
             "pattern": {
              "fillmode": "overlay",
              "size": 10,
              "solidity": 0.2
             }
            },
            "type": "bar"
           }
          ],
          "barpolar": [
           {
            "marker": {
             "line": {
              "color": "#E5ECF6",
              "width": 0.5
             },
             "pattern": {
              "fillmode": "overlay",
              "size": 10,
              "solidity": 0.2
             }
            },
            "type": "barpolar"
           }
          ],
          "carpet": [
           {
            "aaxis": {
             "endlinecolor": "#2a3f5f",
             "gridcolor": "white",
             "linecolor": "white",
             "minorgridcolor": "white",
             "startlinecolor": "#2a3f5f"
            },
            "baxis": {
             "endlinecolor": "#2a3f5f",
             "gridcolor": "white",
             "linecolor": "white",
             "minorgridcolor": "white",
             "startlinecolor": "#2a3f5f"
            },
            "type": "carpet"
           }
          ],
          "choropleth": [
           {
            "colorbar": {
             "outlinewidth": 0,
             "ticks": ""
            },
            "type": "choropleth"
           }
          ],
          "contour": [
           {
            "colorbar": {
             "outlinewidth": 0,
             "ticks": ""
            },
            "colorscale": [
             [
              0,
              "#0d0887"
             ],
             [
              0.1111111111111111,
              "#46039f"
             ],
             [
              0.2222222222222222,
              "#7201a8"
             ],
             [
              0.3333333333333333,
              "#9c179e"
             ],
             [
              0.4444444444444444,
              "#bd3786"
             ],
             [
              0.5555555555555556,
              "#d8576b"
             ],
             [
              0.6666666666666666,
              "#ed7953"
             ],
             [
              0.7777777777777778,
              "#fb9f3a"
             ],
             [
              0.8888888888888888,
              "#fdca26"
             ],
             [
              1,
              "#f0f921"
             ]
            ],
            "type": "contour"
           }
          ],
          "contourcarpet": [
           {
            "colorbar": {
             "outlinewidth": 0,
             "ticks": ""
            },
            "type": "contourcarpet"
           }
          ],
          "heatmap": [
           {
            "colorbar": {
             "outlinewidth": 0,
             "ticks": ""
            },
            "colorscale": [
             [
              0,
              "#0d0887"
             ],
             [
              0.1111111111111111,
              "#46039f"
             ],
             [
              0.2222222222222222,
              "#7201a8"
             ],
             [
              0.3333333333333333,
              "#9c179e"
             ],
             [
              0.4444444444444444,
              "#bd3786"
             ],
             [
              0.5555555555555556,
              "#d8576b"
             ],
             [
              0.6666666666666666,
              "#ed7953"
             ],
             [
              0.7777777777777778,
              "#fb9f3a"
             ],
             [
              0.8888888888888888,
              "#fdca26"
             ],
             [
              1,
              "#f0f921"
             ]
            ],
            "type": "heatmap"
           }
          ],
          "heatmapgl": [
           {
            "colorbar": {
             "outlinewidth": 0,
             "ticks": ""
            },
            "colorscale": [
             [
              0,
              "#0d0887"
             ],
             [
              0.1111111111111111,
              "#46039f"
             ],
             [
              0.2222222222222222,
              "#7201a8"
             ],
             [
              0.3333333333333333,
              "#9c179e"
             ],
             [
              0.4444444444444444,
              "#bd3786"
             ],
             [
              0.5555555555555556,
              "#d8576b"
             ],
             [
              0.6666666666666666,
              "#ed7953"
             ],
             [
              0.7777777777777778,
              "#fb9f3a"
             ],
             [
              0.8888888888888888,
              "#fdca26"
             ],
             [
              1,
              "#f0f921"
             ]
            ],
            "type": "heatmapgl"
           }
          ],
          "histogram": [
           {
            "marker": {
             "pattern": {
              "fillmode": "overlay",
              "size": 10,
              "solidity": 0.2
             }
            },
            "type": "histogram"
           }
          ],
          "histogram2d": [
           {
            "colorbar": {
             "outlinewidth": 0,
             "ticks": ""
            },
            "colorscale": [
             [
              0,
              "#0d0887"
             ],
             [
              0.1111111111111111,
              "#46039f"
             ],
             [
              0.2222222222222222,
              "#7201a8"
             ],
             [
              0.3333333333333333,
              "#9c179e"
             ],
             [
              0.4444444444444444,
              "#bd3786"
             ],
             [
              0.5555555555555556,
              "#d8576b"
             ],
             [
              0.6666666666666666,
              "#ed7953"
             ],
             [
              0.7777777777777778,
              "#fb9f3a"
             ],
             [
              0.8888888888888888,
              "#fdca26"
             ],
             [
              1,
              "#f0f921"
             ]
            ],
            "type": "histogram2d"
           }
          ],
          "histogram2dcontour": [
           {
            "colorbar": {
             "outlinewidth": 0,
             "ticks": ""
            },
            "colorscale": [
             [
              0,
              "#0d0887"
             ],
             [
              0.1111111111111111,
              "#46039f"
             ],
             [
              0.2222222222222222,
              "#7201a8"
             ],
             [
              0.3333333333333333,
              "#9c179e"
             ],
             [
              0.4444444444444444,
              "#bd3786"
             ],
             [
              0.5555555555555556,
              "#d8576b"
             ],
             [
              0.6666666666666666,
              "#ed7953"
             ],
             [
              0.7777777777777778,
              "#fb9f3a"
             ],
             [
              0.8888888888888888,
              "#fdca26"
             ],
             [
              1,
              "#f0f921"
             ]
            ],
            "type": "histogram2dcontour"
           }
          ],
          "mesh3d": [
           {
            "colorbar": {
             "outlinewidth": 0,
             "ticks": ""
            },
            "type": "mesh3d"
           }
          ],
          "parcoords": [
           {
            "line": {
             "colorbar": {
              "outlinewidth": 0,
              "ticks": ""
             }
            },
            "type": "parcoords"
           }
          ],
          "pie": [
           {
            "automargin": true,
            "type": "pie"
           }
          ],
          "scatter": [
           {
            "fillpattern": {
             "fillmode": "overlay",
             "size": 10,
             "solidity": 0.2
            },
            "type": "scatter"
           }
          ],
          "scatter3d": [
           {
            "line": {
             "colorbar": {
              "outlinewidth": 0,
              "ticks": ""
             }
            },
            "marker": {
             "colorbar": {
              "outlinewidth": 0,
              "ticks": ""
             }
            },
            "type": "scatter3d"
           }
          ],
          "scattercarpet": [
           {
            "marker": {
             "colorbar": {
              "outlinewidth": 0,
              "ticks": ""
             }
            },
            "type": "scattercarpet"
           }
          ],
          "scattergeo": [
           {
            "marker": {
             "colorbar": {
              "outlinewidth": 0,
              "ticks": ""
             }
            },
            "type": "scattergeo"
           }
          ],
          "scattergl": [
           {
            "marker": {
             "colorbar": {
              "outlinewidth": 0,
              "ticks": ""
             }
            },
            "type": "scattergl"
           }
          ],
          "scattermapbox": [
           {
            "marker": {
             "colorbar": {
              "outlinewidth": 0,
              "ticks": ""
             }
            },
            "type": "scattermapbox"
           }
          ],
          "scatterpolar": [
           {
            "marker": {
             "colorbar": {
              "outlinewidth": 0,
              "ticks": ""
             }
            },
            "type": "scatterpolar"
           }
          ],
          "scatterpolargl": [
           {
            "marker": {
             "colorbar": {
              "outlinewidth": 0,
              "ticks": ""
             }
            },
            "type": "scatterpolargl"
           }
          ],
          "scatterternary": [
           {
            "marker": {
             "colorbar": {
              "outlinewidth": 0,
              "ticks": ""
             }
            },
            "type": "scatterternary"
           }
          ],
          "surface": [
           {
            "colorbar": {
             "outlinewidth": 0,
             "ticks": ""
            },
            "colorscale": [
             [
              0,
              "#0d0887"
             ],
             [
              0.1111111111111111,
              "#46039f"
             ],
             [
              0.2222222222222222,
              "#7201a8"
             ],
             [
              0.3333333333333333,
              "#9c179e"
             ],
             [
              0.4444444444444444,
              "#bd3786"
             ],
             [
              0.5555555555555556,
              "#d8576b"
             ],
             [
              0.6666666666666666,
              "#ed7953"
             ],
             [
              0.7777777777777778,
              "#fb9f3a"
             ],
             [
              0.8888888888888888,
              "#fdca26"
             ],
             [
              1,
              "#f0f921"
             ]
            ],
            "type": "surface"
           }
          ],
          "table": [
           {
            "cells": {
             "fill": {
              "color": "#EBF0F8"
             },
             "line": {
              "color": "white"
             }
            },
            "header": {
             "fill": {
              "color": "#C8D4E3"
             },
             "line": {
              "color": "white"
             }
            },
            "type": "table"
           }
          ]
         },
         "layout": {
          "annotationdefaults": {
           "arrowcolor": "#2a3f5f",
           "arrowhead": 0,
           "arrowwidth": 1
          },
          "autotypenumbers": "strict",
          "coloraxis": {
           "colorbar": {
            "outlinewidth": 0,
            "ticks": ""
           }
          },
          "colorscale": {
           "diverging": [
            [
             0,
             "#8e0152"
            ],
            [
             0.1,
             "#c51b7d"
            ],
            [
             0.2,
             "#de77ae"
            ],
            [
             0.3,
             "#f1b6da"
            ],
            [
             0.4,
             "#fde0ef"
            ],
            [
             0.5,
             "#f7f7f7"
            ],
            [
             0.6,
             "#e6f5d0"
            ],
            [
             0.7,
             "#b8e186"
            ],
            [
             0.8,
             "#7fbc41"
            ],
            [
             0.9,
             "#4d9221"
            ],
            [
             1,
             "#276419"
            ]
           ],
           "sequential": [
            [
             0,
             "#0d0887"
            ],
            [
             0.1111111111111111,
             "#46039f"
            ],
            [
             0.2222222222222222,
             "#7201a8"
            ],
            [
             0.3333333333333333,
             "#9c179e"
            ],
            [
             0.4444444444444444,
             "#bd3786"
            ],
            [
             0.5555555555555556,
             "#d8576b"
            ],
            [
             0.6666666666666666,
             "#ed7953"
            ],
            [
             0.7777777777777778,
             "#fb9f3a"
            ],
            [
             0.8888888888888888,
             "#fdca26"
            ],
            [
             1,
             "#f0f921"
            ]
           ],
           "sequentialminus": [
            [
             0,
             "#0d0887"
            ],
            [
             0.1111111111111111,
             "#46039f"
            ],
            [
             0.2222222222222222,
             "#7201a8"
            ],
            [
             0.3333333333333333,
             "#9c179e"
            ],
            [
             0.4444444444444444,
             "#bd3786"
            ],
            [
             0.5555555555555556,
             "#d8576b"
            ],
            [
             0.6666666666666666,
             "#ed7953"
            ],
            [
             0.7777777777777778,
             "#fb9f3a"
            ],
            [
             0.8888888888888888,
             "#fdca26"
            ],
            [
             1,
             "#f0f921"
            ]
           ]
          },
          "colorway": [
           "#636efa",
           "#EF553B",
           "#00cc96",
           "#ab63fa",
           "#FFA15A",
           "#19d3f3",
           "#FF6692",
           "#B6E880",
           "#FF97FF",
           "#FECB52"
          ],
          "font": {
           "color": "#2a3f5f"
          },
          "geo": {
           "bgcolor": "white",
           "lakecolor": "white",
           "landcolor": "#E5ECF6",
           "showlakes": true,
           "showland": true,
           "subunitcolor": "white"
          },
          "hoverlabel": {
           "align": "left"
          },
          "hovermode": "closest",
          "mapbox": {
           "style": "light"
          },
          "paper_bgcolor": "white",
          "plot_bgcolor": "#E5ECF6",
          "polar": {
           "angularaxis": {
            "gridcolor": "white",
            "linecolor": "white",
            "ticks": ""
           },
           "bgcolor": "#E5ECF6",
           "radialaxis": {
            "gridcolor": "white",
            "linecolor": "white",
            "ticks": ""
           }
          },
          "scene": {
           "xaxis": {
            "backgroundcolor": "#E5ECF6",
            "gridcolor": "white",
            "gridwidth": 2,
            "linecolor": "white",
            "showbackground": true,
            "ticks": "",
            "zerolinecolor": "white"
           },
           "yaxis": {
            "backgroundcolor": "#E5ECF6",
            "gridcolor": "white",
            "gridwidth": 2,
            "linecolor": "white",
            "showbackground": true,
            "ticks": "",
            "zerolinecolor": "white"
           },
           "zaxis": {
            "backgroundcolor": "#E5ECF6",
            "gridcolor": "white",
            "gridwidth": 2,
            "linecolor": "white",
            "showbackground": true,
            "ticks": "",
            "zerolinecolor": "white"
           }
          },
          "shapedefaults": {
           "line": {
            "color": "#2a3f5f"
           }
          },
          "ternary": {
           "aaxis": {
            "gridcolor": "white",
            "linecolor": "white",
            "ticks": ""
           },
           "baxis": {
            "gridcolor": "white",
            "linecolor": "white",
            "ticks": ""
           },
           "bgcolor": "#E5ECF6",
           "caxis": {
            "gridcolor": "white",
            "linecolor": "white",
            "ticks": ""
           }
          },
          "title": {
           "x": 0.05
          },
          "xaxis": {
           "automargin": true,
           "gridcolor": "white",
           "linecolor": "white",
           "ticks": "",
           "title": {
            "standoff": 15
           },
           "zerolinecolor": "white",
           "zerolinewidth": 2
          },
          "yaxis": {
           "automargin": true,
           "gridcolor": "white",
           "linecolor": "white",
           "ticks": "",
           "title": {
            "standoff": 15
           },
           "zerolinecolor": "white",
           "zerolinewidth": 2
          }
         }
        },
        "title": {
         "text": "Accuracy and Computation Time vs n_estimators"
        },
        "xaxis": {
         "anchor": "y",
         "domain": [
          0,
          0.45
         ]
        },
        "xaxis2": {
         "anchor": "y2",
         "domain": [
          0.55,
          1
         ]
        },
        "yaxis": {
         "anchor": "x",
         "domain": [
          0,
          1
         ]
        },
        "yaxis2": {
         "anchor": "x2",
         "domain": [
          0,
          1
         ]
        }
       }
      }
     },
     "metadata": {},
     "output_type": "display_data"
    }
   ],
   "source": [
    "# plot accuracy and computation time in two different plots using plotly\n",
    "\n",
    "import plotly.graph_objects as go\n",
    "from plotly.subplots import make_subplots\n",
    "\n",
    "fig = make_subplots(rows=1, cols=2)\n",
    "\n",
    "fig.add_trace(\n",
    "    go.Scatter(\n",
    "        x=df['n_estimators'],\n",
    "        y=df['accuracy'],\n",
    "        mode='lines',\n",
    "        name='Accuracy',\n",
    "        line=dict(color='blue'),\n",
    "    ),\n",
    "    row=1, col=1\n",
    ")\n",
    "\n",
    "fig.add_trace(\n",
    "    go.Scatter(\n",
    "        x=df['n_estimators'],\n",
    "        y=df['computation_time'],\n",
    "        mode='lines',\n",
    "        name='Computation Time',\n",
    "        line=dict(color='red'),\n",
    "    ),\n",
    "    row=1, col=2\n",
    ")\n",
    "\n",
    "fig.update_layout(title='Accuracy and Computation Time vs n_estimators', showlegend=True)\n",
    "\n",
    "fig.show()"
   ]
  }
 ],
 "metadata": {
  "kernelspec": {
   "display_name": "Python 3",
   "language": "python",
   "name": "python3"
  },
  "language_info": {
   "codemirror_mode": {
    "name": "ipython",
    "version": 3
   },
   "file_extension": ".py",
   "mimetype": "text/x-python",
   "name": "python",
   "nbconvert_exporter": "python",
   "pygments_lexer": "ipython3",
   "version": "3.9.13"
  }
 },
 "nbformat": 4,
 "nbformat_minor": 2
}
